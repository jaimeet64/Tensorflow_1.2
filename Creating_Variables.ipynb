{
 "cells": [
  {
   "cell_type": "code",
   "execution_count": 2,
   "metadata": {},
   "outputs": [],
   "source": [
    "import tensorflow as tf\n",
    "import numpy as np"
   ]
  },
  {
   "cell_type": "code",
   "execution_count": 6,
   "metadata": {
    "collapsed": true
   },
   "outputs": [],
   "source": [
    "var=tf.Variable(3,name=\"my_var\")\n",
    "add=tf.add(5,var)\n",
    "mul=tf.multiply(5,var)\n"
   ]
  },
  {
   "cell_type": "code",
   "execution_count": 12,
   "metadata": {
    "collapsed": true
   },
   "outputs": [],
   "source": [
    "#2x2 matrix\n",
    "mat_1=tf.zeros([2,2])"
   ]
  },
  {
   "cell_type": "code",
   "execution_count": 8,
   "metadata": {
    "collapsed": true
   },
   "outputs": [],
   "source": [
    "#Vector of length 6\n",
    "ones= tf.ones([6])"
   ]
  },
  {
   "cell_type": "code",
   "execution_count": 9,
   "metadata": {
    "collapsed": true
   },
   "outputs": [],
   "source": [
    "#3x3x3 Tensor of random uniform values between 0 to 10\n",
    "uniform=tf.random_uniform([3,3,3],minval=0,maxval=10)"
   ]
  },
  {
   "cell_type": "code",
   "execution_count": 11,
   "metadata": {
    "collapsed": true
   },
   "outputs": [],
   "source": [
    "#3x3x3 Tendor of normally distributed number;i.e mean=0 and standard deviation 2\n",
    "normal=tf.random_normal([3,3,3],mean=0.0,stddev=2.0)  #Default values of mean is 0 and stddev=1.0"
   ]
  },
  {
   "cell_type": "code",
   "execution_count": 19,
   "metadata": {},
   "outputs": [],
   "source": [
    "#Variable Initialization\n",
    "\n",
    "#Variable objects live in the Graph like most other Tensorflow objects, but their state is actually managed by a Session.\n",
    "#The Session keep track of ongoing changes in the variable. \n",
    "#Typically all the variables are initialized by passing tf.initialize_all_variable() Operation to session.run()\n",
    "\n",
    "init=tf.global_variables_initializer()\n",
    "sess=tf.Session()  # First create session \n",
    "sess.run(init)     # Initialize all variables simultaneously\n",
    "sess.close()\n",
    "#If specific var needs to be initializes.\n",
    "var1=tf.Variable(3,name=\"var_1\")\n",
    "var2=tf.Variable(5,name=\"var_2\")\n",
    "init=tf.variables_initializer([var1],name=\"init_var1\")\n",
    "sess = tf.Session()\n",
    "sess.run(init)\n",
    "sess.close()"
   ]
  },
  {
   "cell_type": "code",
   "execution_count": 21,
   "metadata": {},
   "outputs": [
    {
     "data": {
      "text/plain": [
       "2"
      ]
     },
     "execution_count": 21,
     "metadata": {},
     "output_type": "execute_result"
    }
   ],
   "source": [
    "#Changing varibales \n",
    "\n",
    "my_var=tf.Variable(1)\n",
    "new_var=my_var.assign(my_var*2)  #Multiplies 2 with the new variables.\n",
    "init=tf.global_variables_initializer()\n",
    "sess=tf.Session()  # First create session \n",
    "sess.run(init)     # Initialize all variables simultaneously\n",
    "sess.run(new_var)"
   ]
  },
  {
   "cell_type": "code",
   "execution_count": 22,
   "metadata": {},
   "outputs": [
    {
     "data": {
      "text/plain": [
       "4"
      ]
     },
     "execution_count": 22,
     "metadata": {},
     "output_type": "execute_result"
    }
   ],
   "source": [
    "sess.run(new_var)"
   ]
  },
  {
   "cell_type": "code",
   "execution_count": 23,
   "metadata": {},
   "outputs": [
    {
     "data": {
      "text/plain": [
       "8"
      ]
     },
     "execution_count": 23,
     "metadata": {},
     "output_type": "execute_result"
    }
   ],
   "source": [
    "sess.run(new_var)"
   ]
  },
  {
   "cell_type": "code",
   "execution_count": 24,
   "metadata": {
    "collapsed": true
   },
   "outputs": [],
   "source": [
    "# Trainable: Variable updates automatically while training machine learning models. In this case if you want the variables \n",
    "# not to update automatically, you need to set trainable parameter to False when creating them.\n",
    "\n",
    "not_trainable =tf.Variable(0,trainable=False)"
   ]
  },
  {
   "cell_type": "code",
   "execution_count": null,
   "metadata": {
    "collapsed": true
   },
   "outputs": [],
   "source": []
  }
 ],
 "metadata": {
  "kernelspec": {
   "display_name": "Python 3",
   "language": "python",
   "name": "python3"
  },
  "language_info": {
   "codemirror_mode": {
    "name": "ipython",
    "version": 3
   },
   "file_extension": ".py",
   "mimetype": "text/x-python",
   "name": "python",
   "nbconvert_exporter": "python",
   "pygments_lexer": "ipython3",
   "version": "3.6.1"
  }
 },
 "nbformat": 4,
 "nbformat_minor": 2
}
