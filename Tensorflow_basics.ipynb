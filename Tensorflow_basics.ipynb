{
 "cells": [
  {
   "cell_type": "code",
   "execution_count": 1,
   "metadata": {
    "collapsed": true
   },
   "outputs": [],
   "source": [
    "#This tutorial is meant for Tensorflow 1.2.0. Some changes has been done were done and can be noted in this tutorial."
   ]
  },
  {
   "cell_type": "code",
   "execution_count": 2,
   "metadata": {
    "collapsed": true
   },
   "outputs": [],
   "source": [
    "#If your installation is sucesseful, then you should be able to import tensorflow sucessfully. Aprat from tensorflow we will import necessary libraries \n",
    "import tensorflow as tf\n",
    "import numpy as np\n",
    "import scipy\n",
    "import matplotlib.plt as plt"
   ]
  },
  {
   "cell_type": "code",
   "execution_count": 3,
   "metadata": {},
   "outputs": [
    {
     "name": "stdout",
     "output_type": "stream",
     "text": [
      "1.2.0\n"
     ]
    }
   ],
   "source": [
    "#Check version of tensorflow \n",
    "print(tf.__version__)"
   ]
  },
  {
   "cell_type": "code",
   "execution_count": 8,
   "metadata": {
    "collapsed": true
   },
   "outputs": [],
   "source": [
    "# tf.constant() creates a “constant” Op. The function automatically converts the scalar numbers 5 and 3 into Tensor objects for us\n",
    "a= tf.constant(5,name='input_a')   # 'input_a' can be defiend as a tensor object\n",
    "b= tf.constant(3,name='input_b')\n",
    "#tf.multiply(),tf.div() and tf.subtract() are the basic math fuctions which can be applied on Tensor Objects.\n",
    "c=tf.multiply(a,b,name='mul_c')    # Note: In tensorflow 1.0.0 the Multiplication Op(Operation) was defiend as tf.mul()\n",
    "d=tf.div(a,b,name='div_c')         #Note: tf.div is an interger division or floating point division. In-order to have a floating point division, use tf.truediv() \n",
    "e=tf.subtract(a,b,name='sub_c')    # Note: In tensorflow 1.0.0 the Subtration Op(Operation) was defiend as tf.sub()\n"
   ]
  },
  {
   "cell_type": "code",
   "execution_count": 7,
   "metadata": {},
   "outputs": [
    {
     "data": {
      "text/plain": [
       "3"
      ]
     },
     "execution_count": 7,
     "metadata": {},
     "output_type": "execute_result"
    }
   ],
   "source": [
    "#Python script or shell, it would run, but it wouldn’t actually do anything. Remember- this is just the definition part \n",
    "#of the process. To get a brief taste of what running a graph looks like, we could add the following two lines at the\n",
    "#end to get our graph to output the final node. \n",
    "#A Session object encapsulate the environment in which Tensor objects are evaluated.\n",
    "sess = tf.Session()\n",
    "sess.run(a)"
   ]
  },
  {
   "cell_type": "code",
   "execution_count": 15,
   "metadata": {},
   "outputs": [
    {
     "name": "stdout",
     "output_type": "stream",
     "text": [
      "<tensorflow.python.summary.writer.writer.FileWriter object at 0x7fbec4242668>\n"
     ]
    }
   ],
   "source": [
    "writer = tf.summary.FileWriter('./my_graph', sess.graph)\n",
    "print(writer)"
   ]
  },
  {
   "cell_type": "code",
   "execution_count": 13,
   "metadata": {
    "collapsed": true
   },
   "outputs": [],
   "source": [
    "writer.close()\n",
    "sess.close()"
   ]
  },
  {
   "cell_type": "code",
   "execution_count": null,
   "metadata": {
    "collapsed": true
   },
   "outputs": [],
   "source": []
  }
 ],
 "metadata": {
  "kernelspec": {
   "display_name": "Python 3",
   "language": "python",
   "name": "python3"
  },
  "language_info": {
   "codemirror_mode": {
    "name": "ipython",
    "version": 3
   },
   "file_extension": ".py",
   "mimetype": "text/x-python",
   "name": "python",
   "nbconvert_exporter": "python",
   "pygments_lexer": "ipython3",
   "version": "3.6.1"
  }
 },
 "nbformat": 4,
 "nbformat_minor": 2
}
