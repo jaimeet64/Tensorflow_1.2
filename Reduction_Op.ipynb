{
 "cells": [
  {
   "cell_type": "code",
   "execution_count": 2,
   "metadata": {},
   "outputs": [],
   "source": [
    "#Reduction is an operation performend on tensor which leaves tensor with one less dimension.\n",
    "\n",
    "import tensorflow as tf\n",
    "sess=tf.InteractiveSession()\n",
    "x=tf.constant([[1,2,3],\n",
    "              [2,3,1],\n",
    "              [-1,-3,-2]])\n",
    "boolean_tensor=tf.constant([[True,False,True],\n",
    "                           [False,False,True],\n",
    "                           [True,False,False]])"
   ]
  },
  {
   "cell_type": "code",
   "execution_count": 5,
   "metadata": {},
   "outputs": [
    {
     "data": {
      "text/plain": [
       "array([ 6,  6, -6], dtype=int32)"
      ]
     },
     "execution_count": 5,
     "metadata": {},
     "output_type": "execute_result"
    }
   ],
   "source": [
    "# 'tf.reduce_prod': Computes the \"Product\" of elements across dimensions of a tensor.\n",
    "tf.reduce_prod(x,reduction_indices=1).eval()"
   ]
  },
  {
   "cell_type": "code",
   "execution_count": 7,
   "metadata": {},
   "outputs": [
    {
     "data": {
      "text/plain": [
       "array([ 1,  1, -3], dtype=int32)"
      ]
     },
     "execution_count": 7,
     "metadata": {},
     "output_type": "execute_result"
    }
   ],
   "source": [
    "# 'tf.reduce_min': Computes the \"minimum\" of elements across dimensions of a tensor.\n",
    "tf.reduce_min(x,reduction_indices=1).eval()"
   ]
  },
  {
   "cell_type": "code",
   "execution_count": 8,
   "metadata": {},
   "outputs": [
    {
     "data": {
      "text/plain": [
       "array([ 1,  1, -3], dtype=int32)"
      ]
     },
     "execution_count": 8,
     "metadata": {},
     "output_type": "execute_result"
    }
   ],
   "source": [
    "# 'tf.reduce_max': Computes the \"maximum\" of elements across dimensions of a tensor.\n",
    "tf.reduce_min(x,reduction_indices=1).eval()"
   ]
  },
  {
   "cell_type": "code",
   "execution_count": 9,
   "metadata": {},
   "outputs": [
    {
     "data": {
      "text/plain": [
       "array([ 2,  2, -2], dtype=int32)"
      ]
     },
     "execution_count": 9,
     "metadata": {},
     "output_type": "execute_result"
    }
   ],
   "source": [
    "# 'tf.reduce_mean': Computes the \"mean\" of elements across dimensions of a tensor.\n",
    "tf.reduce_mean(x,reduction_indices=1).eval()"
   ]
  },
  {
   "cell_type": "code",
   "execution_count": 12,
   "metadata": {},
   "outputs": [
    {
     "data": {
      "text/plain": [
       "array([False, False, False], dtype=bool)"
      ]
     },
     "execution_count": 12,
     "metadata": {},
     "output_type": "execute_result"
    }
   ],
   "source": [
    "# 'tf.reduce_all': Computes the \"logical AND\" of elements across dimensions of a tensor.\n",
    "tf.reduce_all(boolean_tensor,reduction_indices=1).eval()"
   ]
  },
  {
   "cell_type": "code",
   "execution_count": 13,
   "metadata": {},
   "outputs": [
    {
     "data": {
      "text/plain": [
       "array([ True,  True,  True], dtype=bool)"
      ]
     },
     "execution_count": 13,
     "metadata": {},
     "output_type": "execute_result"
    }
   ],
   "source": [
    "# 'tf.reduce_all': Computes the \"logical OR\" of elements across dimensions of a tensor.\n",
    "tf.reduce_any(boolean_tensor,reduction_indices=1).eval()"
   ]
  },
  {
   "cell_type": "code",
   "execution_count": null,
   "metadata": {
    "collapsed": true
   },
   "outputs": [],
   "source": []
  }
 ],
 "metadata": {
  "kernelspec": {
   "display_name": "Python 3",
   "language": "python",
   "name": "python3"
  },
  "language_info": {
   "codemirror_mode": {
    "name": "ipython",
    "version": 3
   },
   "file_extension": ".py",
   "mimetype": "text/x-python",
   "name": "python",
   "nbconvert_exporter": "python",
   "pygments_lexer": "ipython3",
   "version": "3.6.1"
  }
 },
 "nbformat": 4,
 "nbformat_minor": 2
}
